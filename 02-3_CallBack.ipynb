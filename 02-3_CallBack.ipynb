{
 "cells": [
  {
   "cell_type": "code",
   "execution_count": null,
   "id": "27c02768",
   "metadata": {},
   "outputs": [],
   "source": [
    "# 콜백 : 학습 시 특정 조건이 되면 실행되는 객체\n",
    "# -> fit 함수에서 지정.\n",
    "\n",
    "#1. ModelCheckpoint : 학습 시 모델 자동 저장.\n",
    "#2. EarlyStopping : 모델의 성능이 더 이상 개선되지 않는 경우 프로그램 종료.\n",
    "#3. Tensorboard : 학습 시 로그를 남겨 시각화"
   ]
  }
 ],
 "metadata": {
  "kernelspec": {
   "display_name": "venv_tf",
   "language": "python",
   "name": "python3"
  },
  "language_info": {
   "codemirror_mode": {
    "name": "ipython",
    "version": 3
   },
   "file_extension": ".py",
   "mimetype": "text/x-python",
   "name": "python",
   "nbconvert_exporter": "python",
   "pygments_lexer": "ipython3",
   "version": "3.11.8"
  }
 },
 "nbformat": 4,
 "nbformat_minor": 5
}
