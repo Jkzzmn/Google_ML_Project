{
 "cells": [
  {
   "cell_type": "code",
   "execution_count": 5,
   "id": "fb1e76f7",
   "metadata": {},
   "outputs": [
    {
     "name": "stdout",
     "output_type": "stream",
     "text": [
      "['John', 'likes', 'to', 'watch', 'movies', 'Mary', 'likes', 'movies', 'too', 'Mary', 'also', 'likes', 'to', 'watch', 'football', 'games']\n"
     ]
    }
   ],
   "source": [
    "text = \"John likes to watch movies. Mary likes movies too. \\\n",
    "    Mary also likes to watch football games\"\n",
    "\n",
    "words = text.replace('.','').split()\n",
    "print(words)"
   ]
  },
  {
   "cell_type": "code",
   "execution_count": null,
   "id": "9250376e",
   "metadata": {},
   "outputs": [
    {
     "name": "stdout",
     "output_type": "stream",
     "text": [
      "(array(['John', 'Mary', 'also', 'football', 'games', 'likes', 'movies',\n",
      "       'to', 'too', 'watch'], dtype='<U8'), array([1, 2, 1, 1, 1, 3, 2, 2, 1, 2]))\n"
     ]
    }
   ],
   "source": [
    "import numpy as np\n",
    "word_count = np.unique(words, return_counts = True) # 유용하게 사용할 수 있음.\n",
    "print(word_count)"
   ]
  },
  {
   "cell_type": "code",
   "execution_count": 10,
   "id": "1e841f19",
   "metadata": {},
   "outputs": [
    {
     "name": "stdout",
     "output_type": "stream",
     "text": [
      "{'John': 1, 'Mary': 2, 'also': 1, 'football': 1, 'games': 1, 'likes': 3, 'movies': 2, 'to': 2, 'too': 1, 'watch': 2}\n"
     ]
    }
   ],
   "source": [
    "word_to_cnt = {}\n",
    "for words, cnt in zip(*word_count):\n",
    "    word_to_cnt[words] = cnt\n",
    "print(word_to_cnt)"
   ]
  },
  {
   "cell_type": "code",
   "execution_count": 11,
   "id": "7ec940e6",
   "metadata": {},
   "outputs": [
    {
     "name": "stdout",
     "output_type": "stream",
     "text": [
      "1\n"
     ]
    }
   ],
   "source": [
    "print(word_to_cnt['John'])"
   ]
  },
  {
   "cell_type": "code",
   "execution_count": null,
   "id": "2042a758",
   "metadata": {},
   "outputs": [],
   "source": [
    "# sklearn\n",
    "# - 예측 : 분류, 회귀 fit(),predict(),predict_proba()\n",
    "# - 변환 : 전처리 등 fit(), transform(),fit_transfrom()"
   ]
  },
  {
   "cell_type": "code",
   "execution_count": 29,
   "id": "8b8bb727",
   "metadata": {},
   "outputs": [
    {
     "name": "stdout",
     "output_type": "stream",
     "text": [
      "[[0 0 0 1 2 1 2 1 1 1]\n",
      " [1 1 1 0 1 1 0 1 0 1]]\n",
      "{'john': 3, 'likes': 4, 'to': 7, 'watch': 9, 'movies': 6, 'mary': 5, 'too': 8, 'also': 0, 'football': 1, 'games': 2}\n"
     ]
    }
   ],
   "source": [
    "corpus = [\"John likes to watch movies. Mary likes movies too.\",\n",
    "    \"Mary also likes to watch football games\"]\n",
    "\n",
    "from sklearn.feature_extraction.text import CountVectorizer\n",
    "vector = CountVectorizer()\n",
    "tdm_array = vector.fit_transform(corpus).toarray() #학습. -> 변환모델, 단어 사전을 생성.\n",
    "# -> 여기서 알파벳순으로 정렬이 미리 되버림.\n",
    "tf_dic = vector.vocabulary_ # 생성된 단어 사전을 확인. -> 각 문장의 단어 빈도 벡터. -> 단어가 몇번째 열에 해당하는지 확인.\n",
    "\n",
    "print(tdm_array)# 각 값은 단어가 해당 문장에 몇번 나왔는지.\n",
    "print(tf_dic)"
   ]
  },
  {
   "cell_type": "code",
   "execution_count": 22,
   "id": "18f2dea3",
   "metadata": {},
   "outputs": [
    {
     "data": {
      "text/plain": [
       "array([[0, 0, 0, 1, 2, 1, 2, 1, 1, 1],\n",
       "       [1, 1, 1, 0, 1, 1, 0, 1, 0, 1]])"
      ]
     },
     "execution_count": 22,
     "metadata": {},
     "output_type": "execute_result"
    }
   ],
   "source": [
    "X = vector.fit_transform(corpus).toarray()\n",
    "X"
   ]
  },
  {
   "cell_type": "code",
   "execution_count": 18,
   "id": "90878926",
   "metadata": {},
   "outputs": [
    {
     "data": {
      "text/html": [
       "<div>\n",
       "<style scoped>\n",
       "    .dataframe tbody tr th:only-of-type {\n",
       "        vertical-align: middle;\n",
       "    }\n",
       "\n",
       "    .dataframe tbody tr th {\n",
       "        vertical-align: top;\n",
       "    }\n",
       "\n",
       "    .dataframe thead th {\n",
       "        text-align: right;\n",
       "    }\n",
       "</style>\n",
       "<table border=\"1\" class=\"dataframe\">\n",
       "  <thead>\n",
       "    <tr style=\"text-align: right;\">\n",
       "      <th></th>\n",
       "      <th>also</th>\n",
       "      <th>football</th>\n",
       "      <th>games</th>\n",
       "      <th>john</th>\n",
       "      <th>likes</th>\n",
       "      <th>mary</th>\n",
       "      <th>movies</th>\n",
       "      <th>to</th>\n",
       "      <th>too</th>\n",
       "      <th>watch</th>\n",
       "    </tr>\n",
       "  </thead>\n",
       "  <tbody>\n",
       "    <tr>\n",
       "      <th>0</th>\n",
       "      <td>0</td>\n",
       "      <td>0</td>\n",
       "      <td>0</td>\n",
       "      <td>1</td>\n",
       "      <td>2</td>\n",
       "      <td>1</td>\n",
       "      <td>2</td>\n",
       "      <td>1</td>\n",
       "      <td>1</td>\n",
       "      <td>1</td>\n",
       "    </tr>\n",
       "    <tr>\n",
       "      <th>1</th>\n",
       "      <td>1</td>\n",
       "      <td>1</td>\n",
       "      <td>1</td>\n",
       "      <td>0</td>\n",
       "      <td>1</td>\n",
       "      <td>1</td>\n",
       "      <td>0</td>\n",
       "      <td>1</td>\n",
       "      <td>0</td>\n",
       "      <td>1</td>\n",
       "    </tr>\n",
       "  </tbody>\n",
       "</table>\n",
       "</div>"
      ],
      "text/plain": [
       "   also  football  games  john  likes  mary  movies  to  too  watch\n",
       "0     0         0      0     1      2     1       2   1    1      1\n",
       "1     1         1      1     0      1     1       0   1    0      1"
      ]
     },
     "execution_count": 18,
     "metadata": {},
     "output_type": "execute_result"
    }
   ],
   "source": [
    "import pandas as pd\n",
    "tf_dic_sorted = dict(sorted(tf_dic.items(),key = lambda item : item[1]))\n",
    "tdm = pd.DataFrame(tdm_array, columns = tf_dic_sorted.keys())\n",
    "tdm"
   ]
  },
  {
   "cell_type": "markdown",
   "id": "05ed3d6a",
   "metadata": {},
   "source": [
    "### IRIS 데이터 분류를 위한 ML 모델"
   ]
  },
  {
   "cell_type": "markdown",
   "id": "d1c1dfb4",
   "metadata": {},
   "source": [
    "1. 모델을 만들고 (RandomForestClassifier)  \n",
    "2. 훈련 데이터로 학습시키고 (fit)  \n",
    "3. 새로운 데이터에 예측하고 (predict)  \n",
    "4. 정확도를 평가하고 (accuracy_score)  \n",
    "5. 예측 결과의 확신 정도까지 본다 (predict_proba)  "
   ]
  },
  {
   "cell_type": "code",
   "execution_count": 23,
   "id": "8d56eb57",
   "metadata": {},
   "outputs": [],
   "source": [
    "from sklearn import datasets\n",
    "iris = datasets.load_iris()\n",
    "X, y = iris.data, iris.target"
   ]
  },
  {
   "cell_type": "code",
   "execution_count": 24,
   "id": "14574474",
   "metadata": {},
   "outputs": [],
   "source": [
    "from sklearn.model_selection import train_test_split\n",
    "X_train, X_test, y_train, y_test = train_test_split(X, y, random_state=1, test_size=0.3)"
   ]
  },
  {
   "cell_type": "code",
   "execution_count": null,
   "id": "88ebd5e6",
   "metadata": {},
   "outputs": [
    {
     "name": "stdout",
     "output_type": "stream",
     "text": [
      "[0 1 1 0 2 1 2 0 0 2 1 0 2 1 1 0 1 1 0 0 1 1 2 0 2 1 0 0 1 2 1 2 1 2 2 0 1\n",
      " 0 1 2 2 0 1 2 1]\n",
      "0.9555555555555556\n"
     ]
    }
   ],
   "source": [
    "from sklearn.ensemble import RandomForestClassifier\n",
    "rf = RandomForestClassifier(random_state=1)\n",
    "# 랜덤 포레스트 : 많은 결정트리를 만들어서 투표로 결과를 정하는 알고리즘.\n",
    "# 여러개의 트리에게 물음 -> 가장 많은 답변이 나온걸로 채택.\n",
    "rf.fit(X_train, y_train) # 학습\n",
    "y_pred = rf.predict(X_test) # pred 저장\n",
    "print(y_pred)\n",
    "from sklearn.metrics import accuracy_score\n",
    "print(accuracy_score(y_test, y_pred)) #얼마나 정확한지."
   ]
  },
  {
   "cell_type": "code",
   "execution_count": 30,
   "id": "1eafd673",
   "metadata": {},
   "outputs": [
    {
     "name": "stdout",
     "output_type": "stream",
     "text": [
      "[[0.95 0.05 0.  ]\n",
      " [0.   0.96 0.04]\n",
      " [0.   0.98 0.02]\n",
      " [1.   0.   0.  ]\n",
      " [0.   0.   1.  ]\n",
      " [0.   0.85 0.15]\n",
      " [0.   0.01 0.99]\n",
      " [1.   0.   0.  ]\n",
      " [1.   0.   0.  ]\n",
      " [0.   0.   1.  ]\n",
      " [0.   1.   0.  ]\n",
      " [1.   0.   0.  ]\n",
      " [0.   0.   1.  ]\n",
      " [0.   0.97 0.03]\n",
      " [0.   0.98 0.02]\n",
      " [1.   0.   0.  ]\n",
      " [0.   0.99 0.01]\n",
      " [0.01 0.99 0.  ]\n",
      " [1.   0.   0.  ]\n",
      " [1.   0.   0.  ]\n",
      " [0.   0.98 0.02]\n",
      " [0.03 0.88 0.09]\n",
      " [0.   0.07 0.93]\n",
      " [1.   0.   0.  ]\n",
      " [0.   0.02 0.98]\n",
      " [0.   1.   0.  ]\n",
      " [0.99 0.01 0.  ]\n",
      " [1.   0.   0.  ]\n",
      " [0.   0.98 0.02]\n",
      " [0.   0.11 0.89]\n",
      " [0.   0.98 0.02]\n",
      " [0.   0.   1.  ]\n",
      " [0.   1.   0.  ]\n",
      " [0.   0.   1.  ]\n",
      " [0.   0.01 0.99]\n",
      " [1.   0.   0.  ]\n",
      " [0.   1.   0.  ]\n",
      " [1.   0.   0.  ]\n",
      " [0.   0.96 0.04]\n",
      " [0.   0.06 0.94]\n",
      " [0.   0.   1.  ]\n",
      " [1.   0.   0.  ]\n",
      " [0.   0.78 0.22]\n",
      " [0.   0.   1.  ]\n",
      " [0.   0.99 0.01]]\n"
     ]
    }
   ],
   "source": [
    "y_pred_proba = rf.predict_proba(X_test) # 결과가 몇%의 확신으로 0 또는 1인지를 보여주는 함수.\n",
    "print(y_pred_proba)"
   ]
  },
  {
   "cell_type": "code",
   "execution_count": null,
   "id": "945b1ffa",
   "metadata": {},
   "outputs": [],
   "source": []
  },
  {
   "cell_type": "markdown",
   "id": "39ea1fa4",
   "metadata": {},
   "source": [
    "# TF-IDF : 문서별 단어의 빈도수를 계산해 행렬로 만들어둔 것.\n",
    "### TF(w) : 문서에서 w의 빈도 / 총 단어수\n",
    "### IDF(w) : log(용어를 포함하는 문서 수) / (총 문서 수 + 1)\n",
    "### 점수가 클수록 문서 상 관련성이 더 높음"
   ]
  },
  {
   "cell_type": "code",
   "execution_count": 33,
   "id": "578dd682",
   "metadata": {},
   "outputs": [
    {
     "data": {
      "text/html": [
       "<div>\n",
       "<style scoped>\n",
       "    .dataframe tbody tr th:only-of-type {\n",
       "        vertical-align: middle;\n",
       "    }\n",
       "\n",
       "    .dataframe tbody tr th {\n",
       "        vertical-align: top;\n",
       "    }\n",
       "\n",
       "    .dataframe thead th {\n",
       "        text-align: right;\n",
       "    }\n",
       "</style>\n",
       "<table border=\"1\" class=\"dataframe\">\n",
       "  <thead>\n",
       "    <tr style=\"text-align: right;\">\n",
       "      <th></th>\n",
       "      <th>also</th>\n",
       "      <th>football</th>\n",
       "      <th>games</th>\n",
       "      <th>john</th>\n",
       "      <th>likes</th>\n",
       "      <th>mary</th>\n",
       "      <th>movies</th>\n",
       "      <th>to</th>\n",
       "      <th>too</th>\n",
       "      <th>watch</th>\n",
       "    </tr>\n",
       "  </thead>\n",
       "  <tbody>\n",
       "    <tr>\n",
       "      <th>0</th>\n",
       "      <td>0.000000</td>\n",
       "      <td>0.000000</td>\n",
       "      <td>0.000000</td>\n",
       "      <td>0.323699</td>\n",
       "      <td>0.460629</td>\n",
       "      <td>0.230315</td>\n",
       "      <td>0.647398</td>\n",
       "      <td>0.230315</td>\n",
       "      <td>0.323699</td>\n",
       "      <td>0.230315</td>\n",
       "    </tr>\n",
       "    <tr>\n",
       "      <th>1</th>\n",
       "      <td>0.446101</td>\n",
       "      <td>0.446101</td>\n",
       "      <td>0.446101</td>\n",
       "      <td>0.000000</td>\n",
       "      <td>0.317404</td>\n",
       "      <td>0.317404</td>\n",
       "      <td>0.000000</td>\n",
       "      <td>0.317404</td>\n",
       "      <td>0.000000</td>\n",
       "      <td>0.317404</td>\n",
       "    </tr>\n",
       "  </tbody>\n",
       "</table>\n",
       "</div>"
      ],
      "text/plain": [
       "       also  football     games  ...        to       too     watch\n",
       "0  0.000000  0.000000  0.000000  ...  0.230315  0.323699  0.230315\n",
       "1  0.446101  0.446101  0.446101  ...  0.317404  0.000000  0.317404\n",
       "\n",
       "[2 rows x 10 columns]"
      ]
     },
     "execution_count": 33,
     "metadata": {},
     "output_type": "execute_result"
    }
   ],
   "source": [
    "from sklearn.feature_extraction.text import TfidfVectorizer\n",
    "\n",
    "tfidf_vec = TfidfVectorizer()\n",
    "tfidf_array = tfidf_vec.fit_transform(corpus).toarray()\n",
    "tfidf_dic = tfidf_vec.vocabulary_\n",
    "\n",
    "tfidf_dic_sorted = dict(sorted(tfidf_dic.items(),key = lambda item:item[1]))\n",
    "tfidf_dtm =pd.DataFrame(tfidf_array,columns = tfidf_dic_sorted.keys())\n",
    "tfidf_dtm"
   ]
  },
  {
   "cell_type": "markdown",
   "id": "0df08694",
   "metadata": {},
   "source": []
  }
 ],
 "metadata": {
  "kernelspec": {
   "display_name": "venv_tf",
   "language": "python",
   "name": "python3"
  },
  "language_info": {
   "codemirror_mode": {
    "name": "ipython",
    "version": 3
   },
   "file_extension": ".py",
   "mimetype": "text/x-python",
   "name": "python",
   "nbconvert_exporter": "python",
   "pygments_lexer": "ipython3",
   "version": "3.11.8"
  }
 },
 "nbformat": 4,
 "nbformat_minor": 5
}
